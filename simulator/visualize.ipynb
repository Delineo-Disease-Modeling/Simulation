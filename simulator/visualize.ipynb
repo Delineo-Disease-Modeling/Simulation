{
 "cells": [
  {
   "cell_type": "code",
   "execution_count": 145,
   "metadata": {},
   "outputs": [],
   "source": [
    "import folium\n",
    "import json\n",
    "import random\n",
    "import ast\n",
    "import pandas as pd\n",
    "import branca.colormap as cm"
   ]
  },
  {
   "cell_type": "code",
   "execution_count": 4,
   "metadata": {},
   "outputs": [
    {
     "ename": "NameError",
     "evalue": "name 'json' is not defined",
     "output_type": "error",
     "traceback": [
      "\u001b[0;31m---------------------------------------------------------------------------\u001b[0m",
      "\u001b[0;31mNameError\u001b[0m                                 Traceback (most recent call last)",
      "\u001b[1;32m/Users/michelle/Documents/GitHub-old/Simulation/simulator/visualize.ipynb Cell 2\u001b[0m line \u001b[0;36m2\n\u001b[1;32m      <a href='vscode-notebook-cell:/Users/michelle/Documents/GitHub-old/Simulation/simulator/visualize.ipynb#W1sZmlsZQ%3D%3D?line=0'>1</a>\u001b[0m \u001b[39mwith\u001b[39;00m \u001b[39mopen\u001b[39m(\u001b[39m'\u001b[39m\u001b[39mpapdata.json\u001b[39m\u001b[39m'\u001b[39m, \u001b[39m'\u001b[39m\u001b[39mr\u001b[39m\u001b[39m'\u001b[39m) \u001b[39mas\u001b[39;00m f:\n\u001b[0;32m----> <a href='vscode-notebook-cell:/Users/michelle/Documents/GitHub-old/Simulation/simulator/visualize.ipynb#W1sZmlsZQ%3D%3D?line=1'>2</a>\u001b[0m     papdata \u001b[39m=\u001b[39m json\u001b[39m.\u001b[39mload(f)\n\u001b[1;32m      <a href='vscode-notebook-cell:/Users/michelle/Documents/GitHub-old/Simulation/simulator/visualize.ipynb#W1sZmlsZQ%3D%3D?line=3'>4</a>\u001b[0m \u001b[39mwith\u001b[39;00m \u001b[39mopen\u001b[39m(\u001b[39m'\u001b[39m\u001b[39mpatterns.json\u001b[39m\u001b[39m'\u001b[39m, \u001b[39m'\u001b[39m\u001b[39mr\u001b[39m\u001b[39m'\u001b[39m) \u001b[39mas\u001b[39;00m f:\n\u001b[1;32m      <a href='vscode-notebook-cell:/Users/michelle/Documents/GitHub-old/Simulation/simulator/visualize.ipynb#W1sZmlsZQ%3D%3D?line=4'>5</a>\u001b[0m     patterns \u001b[39m=\u001b[39m json\u001b[39m.\u001b[39mload(f)\n",
      "\u001b[0;31mNameError\u001b[0m: name 'json' is not defined"
     ]
    }
   ],
   "source": [
    "with open('papdata.json', 'r') as f:\n",
    "    papdata = json.load(f)\n",
    "\n",
    "with open('patterns.json', 'r') as f:\n",
    "    patterns = json.load(f)\n",
    "\n",
    "infected = {}\n",
    "with open('simulator_results.txt', 'r') as f:\n",
    "    for line in f:\n",
    "        if line[0] == '=':\n",
    "            cur_timestep = line[16:line.index(' ', 16)]\n",
    "            infected[cur_timestep] = {'delta': [], 'omicron': []}\n",
    "        elif line[0] == 'd':\n",
    "            infected[cur_timestep]['delta'] = ast.literal_eval(line[7:])\n",
    "        elif line[0] == 'o':\n",
    "            infected[cur_timestep]['omicron'] = ast.literal_eval(line[9:])\n",
    "\n",
    "df = pd.DataFrame.from_dict(papdata['places'])    \n",
    "map = folium.Map(location=(df.loc['latitude'].mean(), df.loc['longitude'].mean()))\n",
    "\n",
    "random.seed(100)\n",
    "\n",
    "houselocs = {}\n",
    "for id in papdata['homes'].keys():\n",
    "    houselocs[id] = {}\n",
    "    houselocs[id]['latitude'] = random.uniform(df.loc['latitude'].min(), df.loc['latitude'].max())\n",
    "    houselocs[id]['longitude'] = random.uniform(df.loc['longitude'].min(), df.loc['longitude'].max())\n",
    "\n",
    "map"
   ]
  },
  {
   "cell_type": "code",
   "execution_count": 2,
   "metadata": {},
   "outputs": [
    {
     "ename": "NameError",
     "evalue": "name 'papdata' is not defined",
     "output_type": "error",
     "traceback": [
      "\u001b[0;31m---------------------------------------------------------------------------\u001b[0m",
      "\u001b[0;31mNameError\u001b[0m                                 Traceback (most recent call last)",
      "\u001b[1;32m/Users/michelle/Documents/GitHub-old/Simulation/simulator/visualize.ipynb Cell 3\u001b[0m line \u001b[0;36m1\n\u001b[0;32m----> <a href='vscode-notebook-cell:/Users/michelle/Documents/GitHub-old/Simulation/simulator/visualize.ipynb#W2sZmlsZQ%3D%3D?line=0'>1</a>\u001b[0m \u001b[39mfor\u001b[39;00m \u001b[39mid\u001b[39m, data \u001b[39min\u001b[39;00m papdata[\u001b[39m'\u001b[39m\u001b[39mplaces\u001b[39m\u001b[39m'\u001b[39m]\u001b[39m.\u001b[39mitems():\n\u001b[1;32m      <a href='vscode-notebook-cell:/Users/michelle/Documents/GitHub-old/Simulation/simulator/visualize.ipynb#W2sZmlsZQ%3D%3D?line=1'>2</a>\u001b[0m     \u001b[39m#folium.Marker((data['latitude'], data['longitude']), popup=f\"{id}: {data['label']}\", icon=folium.Icon()).add_to(map)\u001b[39;00m\n\u001b[1;32m      <a href='vscode-notebook-cell:/Users/michelle/Documents/GitHub-old/Simulation/simulator/visualize.ipynb#W2sZmlsZQ%3D%3D?line=2'>3</a>\u001b[0m     \u001b[39mpass\u001b[39;00m\n\u001b[1;32m      <a href='vscode-notebook-cell:/Users/michelle/Documents/GitHub-old/Simulation/simulator/visualize.ipynb#W2sZmlsZQ%3D%3D?line=4'>5</a>\u001b[0m \u001b[39mmap\u001b[39m\n",
      "\u001b[0;31mNameError\u001b[0m: name 'papdata' is not defined"
     ]
    }
   ],
   "source": [
    "for id, data in papdata['places'].items():\n",
    "    #folium.Marker((data['latitude'], data['longitude']), popup=f\"{id}: {data['label']}\", icon=folium.Icon()).add_to(map)\n",
    "    pass\n",
    "    \n",
    "map"
   ]
  },
  {
   "cell_type": "code",
   "execution_count": 3,
   "metadata": {},
   "outputs": [
    {
     "ename": "NameError",
     "evalue": "name 'cm' is not defined",
     "output_type": "error",
     "traceback": [
      "\u001b[0;31m---------------------------------------------------------------------------\u001b[0m",
      "\u001b[0;31mNameError\u001b[0m                                 Traceback (most recent call last)",
      "\u001b[1;32m/Users/michelle/Documents/GitHub-old/Simulation/simulator/visualize.ipynb Cell 4\u001b[0m line \u001b[0;36m1\n\u001b[0;32m----> <a href='vscode-notebook-cell:/Users/michelle/Documents/GitHub-old/Simulation/simulator/visualize.ipynb#W3sZmlsZQ%3D%3D?line=0'>1</a>\u001b[0m redcm \u001b[39m=\u001b[39m cm\u001b[39m.\u001b[39mLinearColormap(colors\u001b[39m=\u001b[39m[\u001b[39m'\u001b[39m\u001b[39mred\u001b[39m\u001b[39m'\u001b[39m,\u001b[39m'\u001b[39m\u001b[39morange\u001b[39m\u001b[39m'\u001b[39m],index\u001b[39m=\u001b[39m[\u001b[39m0\u001b[39m,\u001b[39m1\u001b[39m],vmin\u001b[39m=\u001b[39m\u001b[39m0\u001b[39m,vmax\u001b[39m=\u001b[39m\u001b[39m1\u001b[39m)\n\u001b[1;32m      <a href='vscode-notebook-cell:/Users/michelle/Documents/GitHub-old/Simulation/simulator/visualize.ipynb#W3sZmlsZQ%3D%3D?line=1'>2</a>\u001b[0m blucm \u001b[39m=\u001b[39m cm\u001b[39m.\u001b[39mLinearColormap(colors\u001b[39m=\u001b[39m[\u001b[39m'\u001b[39m\u001b[39mblue\u001b[39m\u001b[39m'\u001b[39m,\u001b[39m'\u001b[39m\u001b[39mpurple\u001b[39m\u001b[39m'\u001b[39m],index\u001b[39m=\u001b[39m[\u001b[39m0\u001b[39m,\u001b[39m2\u001b[39m],vmin\u001b[39m=\u001b[39m\u001b[39m0\u001b[39m,vmax\u001b[39m=\u001b[39m\u001b[39m2\u001b[39m)\n\u001b[1;32m      <a href='vscode-notebook-cell:/Users/michelle/Documents/GitHub-old/Simulation/simulator/visualize.ipynb#W3sZmlsZQ%3D%3D?line=3'>4</a>\u001b[0m \u001b[39mfor\u001b[39;00m timestep, locations \u001b[39min\u001b[39;00m patterns\u001b[39m.\u001b[39mitems():\n",
      "\u001b[0;31mNameError\u001b[0m: name 'cm' is not defined"
     ]
    }
   ],
   "source": [
    "redcm = cm.LinearColormap(colors=['red','orange'],index=[0,1],vmin=0,vmax=1)\n",
    "blucm = cm.LinearColormap(colors=['blue','purple'],index=[0,2],vmin=0,vmax=2)\n",
    "\n",
    "for timestep, locations in patterns.items():\n",
    "    if int(timestep) < 99945:\n",
    "        continue\n",
    "    \n",
    "    for id, people in locations['places'].items():\n",
    "        data = papdata['places'][id]\n",
    "        coords = (data['latitude'], data['longitude'])\n",
    "        num_infected = len(list(set(people).intersection(infected[timestep]['delta'] + infected[timestep]['omicron'])))\n",
    "        #folium.Marker(coords, popup=f\"{id}: {data['label']}, {len(people)} people\", icon=folium.Icon(color='blue', icon='building', prefix='fa')).add_to(map)\n",
    "        folium.Circle(coords, radius=(len(people) + 10) * 5, popup=f\"{id}: {data['label']}, {len(people)} people, {num_infected} infected\", color=blucm(num_infected), fill_color=blucm(num_infected), weight=1).add_to(map)\n",
    "    \n",
    "    for id, people in locations['homes'].items():\n",
    "        coords = (houselocs[id]['latitude'], houselocs[id]['longitude'])\n",
    "        num_infected = len(list(set(people).intersection(infected[timestep]['delta'] + infected[timestep]['omicron'])))\n",
    "        folium.Circle(coords, radius=(len(people) + 10)*5, popup=f\"{id}: {len(people)} people, {num_infected} infected\", color=redcm(num_infected), fill_color=redcm(num_infected), weight=1).add_to(map)\n",
    "        #folium.Marker(coords, popup=f\"{id}: {len(people)} people\", icon=folium.Icon(color='red', icon='home', prefix='fa')).add_to(map)\n",
    "\n",
    "    \n",
    "    display(map)\n"
   ]
  }
 ],
 "metadata": {
  "kernelspec": {
   "display_name": "Python 3",
   "language": "python",
   "name": "python3"
  },
  "language_info": {
   "codemirror_mode": {
    "name": "ipython",
    "version": 3
   },
   "file_extension": ".py",
   "mimetype": "text/x-python",
   "name": "python",
   "nbconvert_exporter": "python",
   "pygments_lexer": "ipython3",
   "version": "3.9.6"
  },
  "orig_nbformat": 4
 },
 "nbformat": 4,
 "nbformat_minor": 2
}
